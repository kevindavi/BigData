{
  "nbformat": 4,
  "nbformat_minor": 0,
  "metadata": {
    "colab": {
      "provenance": []
    },
    "kernelspec": {
      "name": "python3",
      "display_name": "Python 3"
    },
    "language_info": {
      "name": "python"
    }
  },
  "cells": [
    {
      "cell_type": "markdown",
      "source": [
        "# Collaborative Filtering"
      ],
      "metadata": {
        "id": "b_4E4joxxZ1K"
      }
    },
    {
      "cell_type": "code",
      "execution_count": null,
      "metadata": {
        "id": "yobV-w6cjH08",
        "colab": {
          "base_uri": "https://localhost:8080/"
        },
        "outputId": "2c59bcad-92f0-45ed-af19-c56443e13e99"
      },
      "outputs": [
        {
          "output_type": "stream",
          "name": "stdout",
          "text": [
            "openjdk 11.0.18 2023-01-17\n",
            "OpenJDK Runtime Environment (build 11.0.18+10-post-Ubuntu-0ubuntu120.04.1)\n",
            "OpenJDK 64-Bit Server VM (build 11.0.18+10-post-Ubuntu-0ubuntu120.04.1, mixed mode, sharing)\n",
            "Python 3.9.16\n"
          ]
        }
      ],
      "source": [
        "!java --version\n",
        "!python --version"
      ]
    },
    {
      "cell_type": "code",
      "source": [
        "!pip install pyspark"
      ],
      "metadata": {
        "colab": {
          "base_uri": "https://localhost:8080/"
        },
        "id": "BAs3LgHxo-Y_",
        "outputId": "9f91a29a-8f86-4086-c632-e8ba9c8439c7"
      },
      "execution_count": null,
      "outputs": [
        {
          "output_type": "stream",
          "name": "stdout",
          "text": [
            "Looking in indexes: https://pypi.org/simple, https://us-python.pkg.dev/colab-wheels/public/simple/\n",
            "Collecting pyspark\n",
            "  Downloading pyspark-3.3.2.tar.gz (281.4 MB)\n",
            "\u001b[2K     \u001b[90m━━━━━━━━━━━━━━━━━━━━━━━━━━━━━━━━━━━━━━━\u001b[0m \u001b[32m281.4/281.4 MB\u001b[0m \u001b[31m2.7 MB/s\u001b[0m eta \u001b[36m0:00:00\u001b[0m\n",
            "\u001b[?25h  Preparing metadata (setup.py) ... \u001b[?25l\u001b[?25hdone\n",
            "Collecting py4j==0.10.9.5\n",
            "  Downloading py4j-0.10.9.5-py2.py3-none-any.whl (199 kB)\n",
            "\u001b[2K     \u001b[90m━━━━━━━━━━━━━━━━━━━━━━━━━━━━━━━━━━━━━━\u001b[0m \u001b[32m199.7/199.7 kB\u001b[0m \u001b[31m19.6 MB/s\u001b[0m eta \u001b[36m0:00:00\u001b[0m\n",
            "\u001b[?25hBuilding wheels for collected packages: pyspark\n",
            "  Building wheel for pyspark (setup.py) ... \u001b[?25l\u001b[?25hdone\n",
            "  Created wheel for pyspark: filename=pyspark-3.3.2-py2.py3-none-any.whl size=281824028 sha256=afcec6fe78624b719440c588d91214a19516bcca111a290a3a2b4ecc7ab01b5c\n",
            "  Stored in directory: /root/.cache/pip/wheels/6c/e3/9b/0525ce8a69478916513509d43693511463c6468db0de237c86\n",
            "Successfully built pyspark\n",
            "Installing collected packages: py4j, pyspark\n",
            "  Attempting uninstall: py4j\n",
            "    Found existing installation: py4j 0.10.9.7\n",
            "    Uninstalling py4j-0.10.9.7:\n",
            "      Successfully uninstalled py4j-0.10.9.7\n",
            "Successfully installed py4j-0.10.9.5 pyspark-3.3.2\n"
          ]
        }
      ]
    },
    {
      "cell_type": "code",
      "source": [
        "# Import Apache Spark SQL\n",
        "from pyspark.sql import SparkSession\n",
        "\n",
        "# Create Spark Session/Context\n",
        "# We are using local machine with all the CPU cores [*]\n",
        "spark = SparkSession.builder \\\n",
        "    .master(\"local[*]\") \\\n",
        "    .appName(\"Hello Pyspark\") \\\n",
        "    .config(\"spark.some.config.option\", \"some-value\") \\\n",
        "    .getOrCreate()"
      ],
      "metadata": {
        "id": "j1CIw2s1pCRs"
      },
      "execution_count": null,
      "outputs": []
    },
    {
      "cell_type": "code",
      "source": [
        "# Check spark session\n",
        "print(spark)"
      ],
      "metadata": {
        "colab": {
          "base_uri": "https://localhost:8080/"
        },
        "id": "Cfql5-dWpHVL",
        "outputId": "abecd8fd-c0a5-4ce2-ec0d-34fce6a67232"
      },
      "execution_count": null,
      "outputs": [
        {
          "output_type": "stream",
          "name": "stdout",
          "text": [
            "<pyspark.sql.session.SparkSession object at 0x7f35dddacc10>\n"
          ]
        }
      ]
    },
    {
      "cell_type": "code",
      "source": [
        "from pyspark.ml.evaluation import RegressionEvaluator\n",
        "from pyspark.ml.recommendation import ALS\n",
        "from pyspark.sql import Row\n",
        "import matplotlib.pyplot as plt"
      ],
      "metadata": {
        "id": "k0dlhbOLp1nM"
      },
      "execution_count": null,
      "outputs": []
    },
    {
      "cell_type": "code",
      "source": [
        "# Load the data from the local file into a Spark DataFrame\n",
        "ratings = spark.read.text(\"/content/sample_movielens_ratings.txt\")\n",
        "ratings = ratings.selectExpr(\"split(value, '::')[0] as userId\", \"split(value, '::')[1] as movieId\", \"split(value, '::')[2] as rating\", \"split(value, '::')[3] as timestamp\")\n",
        "\n",
        "# Convert the \"userId\" and \"movieId\" columns to integers, and \"rating\" column to float\n",
        "ratings = ratings.withColumn(\"userId\", ratings[\"userId\"].cast(\"int\"))\n",
        "ratings = ratings.withColumn(\"movieId\", ratings[\"movieId\"].cast(\"int\"))\n",
        "ratings = ratings.withColumn(\"rating\", ratings[\"rating\"].cast(\"float\"))"
      ],
      "metadata": {
        "id": "vyetjafIp845"
      },
      "execution_count": null,
      "outputs": []
    },
    {
      "cell_type": "code",
      "source": [
        "(training, test) = ratings.randomSplit([0.8, 0.2])"
      ],
      "metadata": {
        "id": "wocZNq33r13U"
      },
      "execution_count": null,
      "outputs": []
    },
    {
      "cell_type": "code",
      "source": [
        "maxIters = [5, 10, 15]\n",
        "regParams = [0.1, 0.5, 1.0]"
      ],
      "metadata": {
        "id": "t5_uqSB4r6Hj"
      },
      "execution_count": null,
      "outputs": []
    },
    {
      "cell_type": "code",
      "source": [
        "hyperparameters = []\n",
        "rmse_values = []"
      ],
      "metadata": {
        "id": "0Haim86owsoX"
      },
      "execution_count": null,
      "outputs": []
    },
    {
      "cell_type": "code",
      "source": [
        "# Loop over all combinations of hyperparameter values\n",
        "for maxIter in maxIters:\n",
        "    for regParam in regParams:\n",
        "        # Build the recommendation model using ALS on the training data\n",
        "        als = ALS(maxIter=maxIter, regParam=regParam, userCol=\"userId\", itemCol=\"movieId\", ratingCol=\"rating\", coldStartStrategy=\"drop\")\n",
        "        model = als.fit(training)\n",
        "\n",
        "        # Evaluate the model by computing the RMSE on the test data\n",
        "        predictions = model.transform(test)\n",
        "        evaluator = RegressionEvaluator(metricName=\"rmse\", labelCol=\"rating\", predictionCol=\"prediction\")\n",
        "        rmse = evaluator.evaluate(predictions)\n",
        "        hyperparameters.append((maxIter, regParam))\n",
        "        rmse_values.append(rmse)\n",
        "        print(\"maxIter = {}, regParam = {}: Root-mean-square error = {}\".format(maxIter, regParam, rmse))"
      ],
      "metadata": {
        "colab": {
          "base_uri": "https://localhost:8080/"
        },
        "id": "io_vB6axsLN8",
        "outputId": "ba0454ce-965b-4126-effe-bd8e762d2d85"
      },
      "execution_count": null,
      "outputs": [
        {
          "output_type": "stream",
          "name": "stdout",
          "text": [
            "maxIter = 5, regParam = 0.1: Root-mean-square error = 1.1132879880195798\n",
            "maxIter = 5, regParam = 0.5: Root-mean-square error = 1.334301958426809\n",
            "maxIter = 5, regParam = 1.0: Root-mean-square error = 1.6253551233362817\n",
            "maxIter = 10, regParam = 0.1: Root-mean-square error = 1.0634445228935412\n",
            "maxIter = 10, regParam = 0.5: Root-mean-square error = 1.3332422266129222\n",
            "maxIter = 10, regParam = 1.0: Root-mean-square error = 1.6253546063609272\n",
            "maxIter = 15, regParam = 0.1: Root-mean-square error = 1.0637379858202258\n",
            "maxIter = 15, regParam = 0.5: Root-mean-square error = 1.3333354619898368\n",
            "maxIter = 15, regParam = 1.0: Root-mean-square error = 1.6253546149602884\n"
          ]
        }
      ]
    },
    {
      "cell_type": "code",
      "source": [
        "spark.stop()"
      ],
      "metadata": {
        "id": "Nco__Nzb1OYo"
      },
      "execution_count": null,
      "outputs": []
    }
  ]
}